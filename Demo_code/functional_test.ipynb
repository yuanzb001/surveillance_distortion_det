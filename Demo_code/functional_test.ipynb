{
 "cells": [
  {
   "cell_type": "code",
   "execution_count": 1,
   "metadata": {},
   "outputs": [],
   "source": [
    "import cv2\n",
    "import time\n",
    "from image_features_extraction import get_image_RL, get_Features_for_noise, get_image_magnitude, get_Features_of_light, get_Features_for_blur"
   ]
  },
  {
   "cell_type": "code",
   "execution_count": 2,
   "metadata": {},
   "outputs": [
    {
     "name": "stdout",
     "output_type": "stream",
     "text": [
      "running time for magitude extraction 0.12801027297973633\n",
      "running time for blur features extraction 0.537696361541748\n",
      "running time for RL extraction 0.075469970703125\n",
      "1721342333.2082582\n",
      "calculate hog features time 0.03194618225097656\n",
      "720 1280\n",
      "running time for noise feature extraction 0.11630082130432129\n",
      "running time for light extraction 0.0754849910736084\n"
     ]
    }
   ],
   "source": [
    "image = cv2.imread('/home/yuanzn/Documents/NSF_cohort/code/occlusion_test/occlusion_data_set/a5_3_2k_30/frame_0078.jpg')\n",
    "\n",
    "start_time = time.time()\n",
    "magnitude, direction = get_image_magnitude(image)\n",
    "print(f'running time for magitude extraction {time.time() - start_time}')\n",
    "\n",
    "start_time = time.time()\n",
    "image_features = get_Features_for_blur(magnitude, direction)\n",
    "print(f'running time for blur features extraction {time.time() - start_time}')\n",
    "\n",
    "start_time = time.time()\n",
    "RL_array = get_image_RL(image)\n",
    "print(f'running time for RL extraction {time.time() - start_time}')\n",
    "\n",
    "start_time = time.time()\n",
    "image_features = get_Features_for_noise(image)\n",
    "print(f'running time for noise feature extraction {time.time() - start_time}')\n",
    "\n",
    "start_time = time.time()\n",
    "RL_value = get_Features_of_light(image)\n",
    "print(f'running time for light extraction {time.time() - start_time}')"
   ]
  }
 ],
 "metadata": {
  "kernelspec": {
   "display_name": "yzbEnv",
   "language": "python",
   "name": "python3"
  },
  "language_info": {
   "codemirror_mode": {
    "name": "ipython",
    "version": 3
   },
   "file_extension": ".py",
   "mimetype": "text/x-python",
   "name": "python",
   "nbconvert_exporter": "python",
   "pygments_lexer": "ipython3",
   "version": "undefined.undefined.undefined"
  }
 },
 "nbformat": 4,
 "nbformat_minor": 2
}
