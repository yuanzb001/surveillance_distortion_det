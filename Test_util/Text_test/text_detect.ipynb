{
 "cells": [
  {
   "cell_type": "code",
   "execution_count": 3,
   "metadata": {},
   "outputs": [
    {
     "name": "stdout",
     "output_type": "stream",
     "text": [
      "0.001006566904105392\n"
     ]
    }
   ],
   "source": [
    "import cv2\n",
    "from statistics import mean\n",
    "import numpy as np\n",
    "\n",
    "img_path = '/home/localusr/Documents/Error_detection_demo/Test_util/Dataset/error_blackback.png'\n",
    "\n",
    "def getRL(image):\n",
    "    img = cv2.resize(image, (64,64))\n",
    "    B, G, R = cv2.split(img)\n",
    "#     print(B.shape)\n",
    "    c = 0\n",
    "    tmp_list = []\n",
    "    for b,g,r in zip(B,G,R):\n",
    "        RL = 0\n",
    "        RL = mean([(p*0.2125) for p in r])/255 + mean([(p*0.715) for p in g])/255 + mean([(p*0.072) for p in b])/255\n",
    "#         RL = (mean(r)*0.2125 + mean(g)*0.715 + mean(b)*0.072) / 255 \n",
    "        tmp_list.append(RL)\n",
    "    return mean(tmp_list)\n",
    "\n",
    "image = cv2.imread(img_path)\n",
    "print(getRL(image))\n",
    "\n",
    "image = cv2.cvtColor(image, cv2.COLOR_BGR2GRAY)\n",
    "\n",
    "# Calculate the gradients\n",
    "grad_x = cv2.Sobel(image, cv2.CV_64F, 1, 0, ksize=3)  # Gradient in x direction\n",
    "grad_y = cv2.Sobel(image, cv2.CV_64F, 0, 1, ksize=3)  # Gradient in y direction\n",
    "\n",
    "# Calculate the gradient magnitude and direction\n",
    "magnitude = cv2.magnitude(grad_x, grad_y)\n",
    "direction = cv2.phase(grad_x, grad_y, angleInDegrees=True)\n",
    "\n",
    "\n",
    "meanGmag = np.mean(magnitude)\n",
    "stdGmag = np.std(magnitude)\n",
    "meanGdir = np.mean(direction)\n",
    "stdGdir = np.std(direction)\n",
    "\n",
    "print(meanGmag)\n",
    "print(stdGmag)\n",
    "print(meanGdir)\n",
    "print(stdGdir)\n",
    "\n",
    "image_contrast = np.std(image)\n",
    "print(image_contrast)"
   ]
  }
 ],
 "metadata": {
  "kernelspec": {
   "display_name": "code_env",
   "language": "python",
   "name": "python3"
  },
  "language_info": {
   "codemirror_mode": {
    "name": "ipython",
    "version": 3
   },
   "file_extension": ".py",
   "mimetype": "text/x-python",
   "name": "python",
   "nbconvert_exporter": "python",
   "pygments_lexer": "ipython3",
   "version": "3.8.19"
  }
 },
 "nbformat": 4,
 "nbformat_minor": 2
}
